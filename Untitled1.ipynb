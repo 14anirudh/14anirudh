{
  "nbformat": 4,
  "nbformat_minor": 0,
  "metadata": {
    "colab": {
      "name": "Untitled1.ipynb",
      "provenance": [],
      "collapsed_sections": [],
      "mount_file_id": "1EduS7548-ivFy9Pe0RAq1u5kvKJRxv2X",
      "authorship_tag": "ABX9TyOPxZ5AuNbPfBtjZkT4e4Vy",
      "include_colab_link": true
    },
    "kernelspec": {
      "name": "python3",
      "display_name": "Python 3"
    },
    "language_info": {
      "name": "python"
    }
  },
  "cells": [
    {
      "cell_type": "markdown",
      "metadata": {
        "id": "view-in-github",
        "colab_type": "text"
      },
      "source": [
        "<a href=\"https://colab.research.google.com/github/14anirudh/14anirudh/blob/main/Untitled1.ipynb\" target=\"_parent\"><img src=\"https://colab.research.google.com/assets/colab-badge.svg\" alt=\"Open In Colab\"/></a>"
      ]
    },
    {
      "cell_type": "code",
      "metadata": {
        "id": "1BZzQB0rYzx7"
      },
      "source": [
        "import pandas as pd \n",
        "import numpy as np\n",
        "df = pd.read_csv('https://raw.githubusercontent.com/WalePhenomenon/climate_change/master/fuel_ferc1.csv')\n",
        "df.skew()\n",
        "df.kurt()\n",
        "df.decsribe()"
      ],
      "execution_count": null,
      "outputs": []
    }
  ]
}